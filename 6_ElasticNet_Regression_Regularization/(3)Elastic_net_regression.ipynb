{
  "cells": [
    {
      "cell_type": "markdown",
      "source": [
        "#Elastic Net Regression\n",
        "\n",
        "- Type of regularization which is combination of Ridge (L2) and Lasso (L1).\n",
        "- Suppose we have 100 columns and we don't know if every column(dimension) is important or only few columns are required i.e whether to apply Ridge or Lasso, that is when we use Elastic Regression.\n",
        "- Also Elastic reg is applied when dataset is huge and Input columns are multicollinear.\n",
        "\n",
        "## In Ridge regression\n",
        "▶**Adds penalty on squared coefficients to reduce overfitting.**\n",
        "- When we increase the lambda value, coef_values decreases to **near** zero but never zero.\n",
        "- We use Ridge, where we don't want to remove any columns(dimensions) since all maybe important.\n",
        "\n",
        "## In Lasso regression\n",
        "▶**Adds penalty on absolute values of coefficients, forcing some to zero (feature selection).**\n",
        "- When we increase the lambda value, coef_values decreases to 0.\n",
        "- We use Lasso, when we want to remove unwanted columns(diensions) to reduce the dimensions.\n",
        "\n",
        "\n"
      ],
      "metadata": {
        "id": "CAABexgOjyAG"
      },
      "id": "CAABexgOjyAG"
    },
    {
      "cell_type": "markdown",
      "source": [
        "1️⃣ Compares different regression techniques:\n",
        "\n",
        "- Linear Regression (No regularization)\n",
        "\n",
        "- Ridge Regression (L2 Regularization)\n",
        "\n",
        "- Lasso Regression (L1 Regularization)\n",
        "\n",
        "- Elastic Net Regression (L1 + L2 Regularization)\n",
        "\n",
        "2️⃣ Uses the Diabetes dataset from Scikit-learn to train and evaluate models.\n",
        "\n",
        "3️⃣ Evaluates model performance using the R² score."
      ],
      "metadata": {
        "id": "HWzm2mjRjadg"
      },
      "id": "HWzm2mjRjadg"
    },
    {
      "cell_type": "code",
      "execution_count": 1,
      "id": "71e28874",
      "metadata": {
        "id": "71e28874"
      },
      "outputs": [],
      "source": [
        "from sklearn.datasets import load_diabetes\n",
        "from sklearn.linear_model import LinearRegression,Ridge,Lasso,ElasticNet\n",
        "from sklearn.model_selection import train_test_split\n",
        "from sklearn.metrics import r2_score"
      ]
    },
    {
      "cell_type": "code",
      "execution_count": 2,
      "id": "284ccf3c",
      "metadata": {
        "id": "284ccf3c"
      },
      "outputs": [],
      "source": [
        "X,y = load_diabetes(return_X_y=True)"
      ]
    },
    {
      "cell_type": "code",
      "execution_count": 3,
      "id": "799d9080",
      "metadata": {
        "id": "799d9080"
      },
      "outputs": [],
      "source": [
        "X_train,X_test,y_train,y_test = train_test_split(X,y,test_size=0.2,random_state=2)"
      ]
    },
    {
      "cell_type": "code",
      "execution_count": 4,
      "id": "8a242b9f",
      "metadata": {
        "colab": {
          "base_uri": "https://localhost:8080/"
        },
        "id": "8a242b9f",
        "outputId": "888cbf31-64fe-4fe3-cc80-055e15af9e2a"
      },
      "outputs": [
        {
          "output_type": "execute_result",
          "data": {
            "text/plain": [
              "0.4399338661568968"
            ]
          },
          "metadata": {},
          "execution_count": 4
        }
      ],
      "source": [
        "# Linear Regression\n",
        "reg = LinearRegression()\n",
        "reg.fit(X_train,y_train)\n",
        "y_pred = reg.predict(X_test)\n",
        "r2_score(y_test,y_pred)"
      ]
    },
    {
      "cell_type": "code",
      "execution_count": 5,
      "id": "a41eb10c",
      "metadata": {
        "colab": {
          "base_uri": "https://localhost:8080/"
        },
        "id": "a41eb10c",
        "outputId": "eea25306-40d3-449c-a190-0c62a24796ee"
      },
      "outputs": [
        {
          "output_type": "execute_result",
          "data": {
            "text/plain": [
              "0.45199494197195456"
            ]
          },
          "metadata": {},
          "execution_count": 5
        }
      ],
      "source": [
        "# Ridge\n",
        "reg = Ridge(alpha=0.1)\n",
        "reg.fit(X_train,y_train)\n",
        "y_pred = reg.predict(X_test)\n",
        "r2_score(y_test,y_pred)"
      ]
    },
    {
      "cell_type": "code",
      "execution_count": 6,
      "id": "b6b53e7c",
      "metadata": {
        "colab": {
          "base_uri": "https://localhost:8080/"
        },
        "id": "b6b53e7c",
        "outputId": "84eeb8b2-4931-4bbc-dedf-bce83136c4a7"
      },
      "outputs": [
        {
          "output_type": "execute_result",
          "data": {
            "text/plain": [
              "0.44111855963110613"
            ]
          },
          "metadata": {},
          "execution_count": 6
        }
      ],
      "source": [
        "# Lasso\n",
        "reg = Lasso(alpha=0.01)\n",
        "reg.fit(X_train,y_train)\n",
        "y_pred = reg.predict(X_test)\n",
        "r2_score(y_test,y_pred)"
      ]
    },
    {
      "cell_type": "code",
      "execution_count": 7,
      "id": "5fc65b12",
      "metadata": {
        "colab": {
          "base_uri": "https://localhost:8080/"
        },
        "id": "5fc65b12",
        "outputId": "28d503e0-2e1c-4aac-fb06-5fcb5ea9d304"
      },
      "outputs": [
        {
          "output_type": "execute_result",
          "data": {
            "text/plain": [
              "0.4531474541554823"
            ]
          },
          "metadata": {},
          "execution_count": 7
        }
      ],
      "source": [
        "# ElasticNet\n",
        "reg = ElasticNet(alpha=0.005,l1_ratio=0.9)  #Uses alpha (regularization strength) and l1_ratio (mixing factor between Lasso and Ridge).\n",
        "reg.fit(X_train,y_train)\n",
        "y_pred = reg.predict(X_test)\n",
        "r2_score(y_test,y_pred)"
      ]
    },
    {
      "cell_type": "markdown",
      "source": [
        "R2 score among these models are almost same with very slight change with Elastic Net model being the best one among the 3 models."
      ],
      "metadata": {
        "id": "IVlaup1smN6P"
      },
      "id": "IVlaup1smN6P"
    }
  ],
  "metadata": {
    "kernelspec": {
      "display_name": "Python 3",
      "language": "python",
      "name": "python3"
    },
    "language_info": {
      "codemirror_mode": {
        "name": "ipython",
        "version": 3
      },
      "file_extension": ".py",
      "mimetype": "text/x-python",
      "name": "python",
      "nbconvert_exporter": "python",
      "pygments_lexer": "ipython3",
      "version": "3.8.8"
    },
    "colab": {
      "provenance": []
    }
  },
  "nbformat": 4,
  "nbformat_minor": 5
}